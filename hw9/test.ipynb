{
 "cells": [
  {
   "cell_type": "code",
   "execution_count": 1,
   "metadata": {},
   "outputs": [],
   "source": [
    "import pandas as pd"
   ]
  },
  {
   "cell_type": "code",
   "execution_count": 13,
   "metadata": {},
   "outputs": [
    {
     "data": {
      "text/plain": [
       "0               'Gen Hoshino',\n",
       "1              'Ben Woodward',\n",
       "3              'Kina Grannis',\n",
       "4          'Chord Overstreet',\n",
       "5              'Tyrone Wells',\n",
       "                  ...         \n",
       "113636          'Agua Mantra',\n",
       "113667    'Ruido Blanco Hart',\n",
       "113671        'Massagem Guru',\n",
       "113720         'Thetahealing',\n",
       "113721       'Petra Espiritu',\n",
       "Name: artists, Length: 7025, dtype: object"
      ]
     },
     "execution_count": 13,
     "metadata": {},
     "output_type": "execute_result"
    }
   ],
   "source": [
    "df = pd.read_csv('spotify_tracks_rank.csv')\n",
    "df.sort_values(by=['artists'])\n",
    "df = df.groupby('artists').filter(lambda x: len(x) > 2)['artists']\n",
    "df.replace(\";.*\", \"\", regex=True, inplace=True)\n",
    "df.drop_duplicates(inplace=True, keep='first')\n",
    "df = (\"'\" + df + \"',\")\n",
    "# df['artists']\n",
    "\n",
    "df"
   ]
  },
  {
   "cell_type": "code",
   "execution_count": 108,
   "metadata": {},
   "outputs": [],
   "source": [
    "df.to_csv('artists.csv', index=False)"
   ]
  },
  {
   "cell_type": "code",
   "execution_count": 23,
   "metadata": {},
   "outputs": [],
   "source": [
    "# def convert(data):\n",
    "#     return data//10\n"
   ]
  },
  {
   "cell_type": "code",
   "execution_count": 24,
   "metadata": {},
   "outputs": [],
   "source": [
    "# df['popularity_rank'] = df['popularity'].apply(convert)"
   ]
  },
  {
   "cell_type": "code",
   "execution_count": 25,
   "metadata": {},
   "outputs": [],
   "source": [
    "# df.to_csv('spotify_tracks_rank.csv', index=False)"
   ]
  }
 ],
 "metadata": {
  "kernelspec": {
   "display_name": "lab",
   "language": "python",
   "name": "python3"
  },
  "language_info": {
   "codemirror_mode": {
    "name": "ipython",
    "version": 3
   },
   "file_extension": ".py",
   "mimetype": "text/x-python",
   "name": "python",
   "nbconvert_exporter": "python",
   "pygments_lexer": "ipython3",
   "version": "3.10.9"
  }
 },
 "nbformat": 4,
 "nbformat_minor": 2
}
