{
 "cells": [
  {
   "cell_type": "code",
   "execution_count": 1,
   "metadata": {},
   "outputs": [],
   "source": [
    "import pandas as pd"
   ]
  },
  {
   "cell_type": "code",
   "execution_count": 7,
   "metadata": {},
   "outputs": [
    {
     "data": {
      "text/plain": [
       "0            acoustic\n",
       "1000         afrobeat\n",
       "2000         alt-rock\n",
       "3000      alternative\n",
       "4000          ambient\n",
       "             ...     \n",
       "109000         techno\n",
       "110000         trance\n",
       "111000       trip-hop\n",
       "112000        turkish\n",
       "113000    world-music\n",
       "Name: track_genre, Length: 114, dtype: object"
      ]
     },
     "execution_count": 7,
     "metadata": {},
     "output_type": "execute_result"
    }
   ],
   "source": [
    "df = pd.read_csv('spotify_tracks_rank.csv')\n",
    "df.sort_values(by=['track_genre'])\n",
    "# df = df.groupby('artists').filter(lambda x: len(x) > 2)['artists']\n",
    "# df.replace(\";.*\", \"\", regex=True, inplace=True)\n",
    "df = df['track_genre'].drop_duplicates(keep='first')\n",
    "# df = (\"'\" + df + \"',\")\n",
    "# df['artists']\n",
    "\n",
    "df"
   ]
  },
  {
   "cell_type": "code",
   "execution_count": 108,
   "metadata": {},
   "outputs": [],
   "source": [
    "df.to_csv('track_genre.csv', index=False)"
   ]
  },
  {
   "cell_type": "code",
   "execution_count": 23,
   "metadata": {},
   "outputs": [],
   "source": [
    "# def convert(data):\n",
    "#     return data//10\n"
   ]
  },
  {
   "cell_type": "code",
   "execution_count": 24,
   "metadata": {},
   "outputs": [],
   "source": [
    "# df['popularity_rank'] = df['popularity'].apply(convert)"
   ]
  },
  {
   "cell_type": "code",
   "execution_count": 25,
   "metadata": {},
   "outputs": [],
   "source": [
    "# df.to_csv('spotify_tracks_rank.csv', index=False)"
   ]
  }
 ],
 "metadata": {
  "kernelspec": {
   "display_name": "lab",
   "language": "python",
   "name": "python3"
  },
  "language_info": {
   "codemirror_mode": {
    "name": "ipython",
    "version": 3
   },
   "file_extension": ".py",
   "mimetype": "text/x-python",
   "name": "python",
   "nbconvert_exporter": "python",
   "pygments_lexer": "ipython3",
   "version": "3.10.9"
  }
 },
 "nbformat": 4,
 "nbformat_minor": 2
}
