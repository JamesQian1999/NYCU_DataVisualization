{
 "cells": [
  {
   "cell_type": "code",
   "execution_count": 17,
   "metadata": {},
   "outputs": [],
   "source": [
    "import csv\n",
    "import numpy as np\n",
    "import pandas as pd\n"
   ]
  },
  {
   "cell_type": "code",
   "execution_count": 25,
   "metadata": {},
   "outputs": [
    {
     "name": "stderr",
     "output_type": "stream",
     "text": [
      "/var/folders/_v/8hxdgdtx5q32gc_czjdtkpmm0000gn/T/ipykernel_96793/458955744.py:2: DtypeWarning: Columns (5) have mixed types. Specify dtype option on import or set low_memory=False.\n",
      "  df = pd.read_csv('Annual_Average_Daily_Traffic__AADT___Beginning_1977.csv')\n"
     ]
    }
   ],
   "source": [
    "# Read csv as dataframe\n",
    "df = pd.read_csv('data/Annual_Average_Daily_Traffic__AADT___Beginning_1977.csv')\n",
    "df['Count'] = df['Count'].fillna(0)\n",
    "\n",
    "# Update 'State Route' column\n",
    "df.loc[~df['State Route'].isnull(), 'State Route'] = 1  # not nan\n",
    "df.loc[df['State Route'].isnull(), 'State Route'] = 0   # nan\n",
    "\n",
    "# Update 'County Road' column\n",
    "df.loc[~df['County Road'].isnull(), 'County Road'] = 1  # not nan\n",
    "df.loc[df['County Road'].isnull(), 'County Road'] = 0   # nan\n",
    "\n",
    "# 0 'State Road'\n",
    "# 1 'County Road'\n",
    "# 2 'Other Road'\n",
    "\n",
    "conditions = [\n",
    "    df['State Route'] == 1,\n",
    "    df['County Road'] == 1\n",
    "]\n",
    "\n",
    "# Define the corresponding choices for each condition\n",
    "choices = [0, 1]\n",
    " \n",
    "# Create 'type' column using np.select()\n",
    "df['type'] = np.select(conditions, choices, default=2)\n",
    "\n",
    "# Group by 'Year' and 'County', then calculate the mean of 'Count'\n",
    "avg_traffic_county_roadstype = df.groupby(['Year', 'County', 'type'])['Count'].mean().reset_index()\n",
    "avg_traffic_county_roadstype.to_csv('avg_traffic_county_roadstype.csv', index=False)\n"
   ]
  }
 ],
 "metadata": {
  "kernelspec": {
   "display_name": "lab",
   "language": "python",
   "name": "python3"
  },
  "language_info": {
   "codemirror_mode": {
    "name": "ipython",
    "version": 3
   },
   "file_extension": ".py",
   "mimetype": "text/x-python",
   "name": "python",
   "nbconvert_exporter": "python",
   "pygments_lexer": "ipython3",
   "version": "3.10.9"
  }
 },
 "nbformat": 4,
 "nbformat_minor": 2
}
